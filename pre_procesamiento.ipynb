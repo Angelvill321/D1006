{
  "nbformat": 4,
  "nbformat_minor": 0,
  "metadata": {
    "colab": {
      "provenance": [],
      "include_colab_link": true
    },
    "kernelspec": {
      "name": "python3",
      "display_name": "Python 3"
    },
    "language_info": {
      "name": "python"
    }
  },
  "cells": [
    {
      "cell_type": "markdown",
      "metadata": {
        "id": "view-in-github",
        "colab_type": "text"
      },
      "source": [
        "<a href=\"https://colab.research.google.com/github/Angelvill321/D1006/blob/main/pre_procesamiento.ipynb\" target=\"_parent\"><img src=\"https://colab.research.google.com/assets/colab-badge.svg\" alt=\"Open In Colab\"/></a>"
      ]
    },
    {
      "cell_type": "code",
      "execution_count": null,
      "metadata": {
        "colab": {
          "base_uri": "https://localhost:8080/"
        },
        "id": "lsM3_lEM5KQX",
        "outputId": "13c53fc2-549a-4ac2-bc3a-2ccf3ccc7e78"
      },
      "outputs": [
        {
          "output_type": "stream",
          "name": "stdout",
          "text": [
            "Mounted at /content/drive\n"
          ]
        }
      ],
      "source": [
        "from google.colab import drive\n",
        "drive.mount('/content/drive')\n",
        "import pandas as pd\n",
        "import gdown"
      ]
    },
    {
      "cell_type": "code",
      "source": [
        "url = \"https://drive.google.com/uc?id=1MdxRAfh0ojpqayiSGiieg_S9Zo0vdjGt\"\n"
      ],
      "metadata": {
        "id": "mCA0Odfv5W_k"
      },
      "execution_count": null,
      "outputs": []
    },
    {
      "cell_type": "code",
      "source": [
        "output = 'df_definitivo.csv'\n",
        "gdown.download(url, output, quiet=False)\n",
        "\n",
        "# Leer el archivo CSV en un DataFrame de pandas\n",
        "df_alertas = pd.read_csv(output)"
      ],
      "metadata": {
        "colab": {
          "base_uri": "https://localhost:8080/"
        },
        "id": "_FbsbqX15lL1",
        "outputId": "73950768-1b4d-46a4-cb3c-04bf307de10d"
      },
      "execution_count": null,
      "outputs": [
        {
          "output_type": "stream",
          "name": "stderr",
          "text": [
            "Downloading...\n",
            "From (original): https://drive.google.com/uc?id=1MdxRAfh0ojpqayiSGiieg_S9Zo0vdjGt\n",
            "From (redirected): https://drive.google.com/uc?id=1MdxRAfh0ojpqayiSGiieg_S9Zo0vdjGt&confirm=t&uuid=c8958859-dd30-4494-a64b-eeff7f734fdb\n",
            "To: /content/df_definitivo.csv\n",
            "100%|██████████| 1.51G/1.51G [00:20<00:00, 74.0MB/s]\n"
          ]
        }
      ]
    },
    {
      "cell_type": "code",
      "source": [
        "df_alertas"
      ],
      "metadata": {
        "colab": {
          "base_uri": "https://localhost:8080/",
          "height": 579
        },
        "id": "_GqoSpDv5sw_",
        "outputId": "7f63a31a-5039-4fe3-f20c-f12152f4140b"
      },
      "execution_count": null,
      "outputs": [
        {
          "output_type": "execute_result",
          "data": {
            "text/plain": [
              "                               id                      event  \\\n",
              "0        5ed3a4b2283336e2e7db3a1c  Special Weather Statement   \n",
              "1        5ed3a07c283336e2e7d2bfa4              Flood Warning   \n",
              "2        5ed39e54283336e2e7d22306             Flood Advisory   \n",
              "3        5ed39e11283336e2e7d15e23                Flood Watch   \n",
              "4        5ed3962c283336e2e7c1d935              Flood Warning   \n",
              "...                           ...                        ...   \n",
              "1497255  613a5aee434e34d5ee03f0e1  Special Weather Statement   \n",
              "1497256  613a5c5b434e34d5ee06813a  Special Weather Statement   \n",
              "1497257  613a5c5b434e34d5ee06813f          Flash Flood Watch   \n",
              "1497258  613a5d4d434e34d5ee06a9a9         Dense Fog Advisory   \n",
              "1497259  613a5dc6434e34d5ee06bd10  Special Weather Statement   \n",
              "\n",
              "                                               description  \\\n",
              "0        At 630 AM MDT/530 AM PDT/, Doppler radar was t...   \n",
              "1        ...The National Weather Service in Billings MT...   \n",
              "2        At 502 AM PDT, Gauge reports continue to indic...   \n",
              "3        The National Weather Service in Spokane has is...   \n",
              "4        The Flood Warning has been cancelled and is no...   \n",
              "...                                                    ...   \n",
              "1497255  At 814 AM CDT, Doppler radar was tracking a st...   \n",
              "1497256  At 816 AM CDT, Doppler radar was tracking a st...   \n",
              "1497257  The National Weather Service in El Paso Tx/San...   \n",
              "1497258  * WHAT...Visibility around 1/4 mile or less in...   \n",
              "1497259  At 745 AM MDT/845 AM CDT/, Doppler radar was t...   \n",
              "\n",
              "                                               instruction   urgency  severity  \n",
              "0        Frequent cloud to ground lightning is occurrin...  Expected  Moderate  \n",
              "1        Safety message...A river Flood Warning means r...  Expected    Severe  \n",
              "2        A Flood Advisory means river or stream flows a...  Expected     Minor  \n",
              "3        A Flood Watch means there is a potential for f...    Future    Severe  \n",
              "4        Safety message...Motorists should not attempt ...      Past     Minor  \n",
              "...                                                    ...       ...       ...  \n",
              "1497255  If outdoors, consider seeking shelter inside a...  Expected  Moderate  \n",
              "1497256  If outdoors, consider seeking shelter inside a...  Expected  Moderate  \n",
              "1497257  You should monitor later forecasts and be prep...    Future    Severe  \n",
              "1497258  If driving, slow down, use your headlights, an...  Expected  Moderate  \n",
              "1497259  If outdoors, consider seeking shelter inside a...  Expected  Moderate  \n",
              "\n",
              "[1497260 rows x 6 columns]"
            ],
            "text/html": [
              "\n",
              "  <div id=\"df-3c85b489-5530-42b6-a31e-e9c36e9994fd\" class=\"colab-df-container\">\n",
              "    <div>\n",
              "<style scoped>\n",
              "    .dataframe tbody tr th:only-of-type {\n",
              "        vertical-align: middle;\n",
              "    }\n",
              "\n",
              "    .dataframe tbody tr th {\n",
              "        vertical-align: top;\n",
              "    }\n",
              "\n",
              "    .dataframe thead th {\n",
              "        text-align: right;\n",
              "    }\n",
              "</style>\n",
              "<table border=\"1\" class=\"dataframe\">\n",
              "  <thead>\n",
              "    <tr style=\"text-align: right;\">\n",
              "      <th></th>\n",
              "      <th>id</th>\n",
              "      <th>event</th>\n",
              "      <th>description</th>\n",
              "      <th>instruction</th>\n",
              "      <th>urgency</th>\n",
              "      <th>severity</th>\n",
              "    </tr>\n",
              "  </thead>\n",
              "  <tbody>\n",
              "    <tr>\n",
              "      <th>0</th>\n",
              "      <td>5ed3a4b2283336e2e7db3a1c</td>\n",
              "      <td>Special Weather Statement</td>\n",
              "      <td>At 630 AM MDT/530 AM PDT/, Doppler radar was t...</td>\n",
              "      <td>Frequent cloud to ground lightning is occurrin...</td>\n",
              "      <td>Expected</td>\n",
              "      <td>Moderate</td>\n",
              "    </tr>\n",
              "    <tr>\n",
              "      <th>1</th>\n",
              "      <td>5ed3a07c283336e2e7d2bfa4</td>\n",
              "      <td>Flood Warning</td>\n",
              "      <td>...The National Weather Service in Billings MT...</td>\n",
              "      <td>Safety message...A river Flood Warning means r...</td>\n",
              "      <td>Expected</td>\n",
              "      <td>Severe</td>\n",
              "    </tr>\n",
              "    <tr>\n",
              "      <th>2</th>\n",
              "      <td>5ed39e54283336e2e7d22306</td>\n",
              "      <td>Flood Advisory</td>\n",
              "      <td>At 502 AM PDT, Gauge reports continue to indic...</td>\n",
              "      <td>A Flood Advisory means river or stream flows a...</td>\n",
              "      <td>Expected</td>\n",
              "      <td>Minor</td>\n",
              "    </tr>\n",
              "    <tr>\n",
              "      <th>3</th>\n",
              "      <td>5ed39e11283336e2e7d15e23</td>\n",
              "      <td>Flood Watch</td>\n",
              "      <td>The National Weather Service in Spokane has is...</td>\n",
              "      <td>A Flood Watch means there is a potential for f...</td>\n",
              "      <td>Future</td>\n",
              "      <td>Severe</td>\n",
              "    </tr>\n",
              "    <tr>\n",
              "      <th>4</th>\n",
              "      <td>5ed3962c283336e2e7c1d935</td>\n",
              "      <td>Flood Warning</td>\n",
              "      <td>The Flood Warning has been cancelled and is no...</td>\n",
              "      <td>Safety message...Motorists should not attempt ...</td>\n",
              "      <td>Past</td>\n",
              "      <td>Minor</td>\n",
              "    </tr>\n",
              "    <tr>\n",
              "      <th>...</th>\n",
              "      <td>...</td>\n",
              "      <td>...</td>\n",
              "      <td>...</td>\n",
              "      <td>...</td>\n",
              "      <td>...</td>\n",
              "      <td>...</td>\n",
              "    </tr>\n",
              "    <tr>\n",
              "      <th>1497255</th>\n",
              "      <td>613a5aee434e34d5ee03f0e1</td>\n",
              "      <td>Special Weather Statement</td>\n",
              "      <td>At 814 AM CDT, Doppler radar was tracking a st...</td>\n",
              "      <td>If outdoors, consider seeking shelter inside a...</td>\n",
              "      <td>Expected</td>\n",
              "      <td>Moderate</td>\n",
              "    </tr>\n",
              "    <tr>\n",
              "      <th>1497256</th>\n",
              "      <td>613a5c5b434e34d5ee06813a</td>\n",
              "      <td>Special Weather Statement</td>\n",
              "      <td>At 816 AM CDT, Doppler radar was tracking a st...</td>\n",
              "      <td>If outdoors, consider seeking shelter inside a...</td>\n",
              "      <td>Expected</td>\n",
              "      <td>Moderate</td>\n",
              "    </tr>\n",
              "    <tr>\n",
              "      <th>1497257</th>\n",
              "      <td>613a5c5b434e34d5ee06813f</td>\n",
              "      <td>Flash Flood Watch</td>\n",
              "      <td>The National Weather Service in El Paso Tx/San...</td>\n",
              "      <td>You should monitor later forecasts and be prep...</td>\n",
              "      <td>Future</td>\n",
              "      <td>Severe</td>\n",
              "    </tr>\n",
              "    <tr>\n",
              "      <th>1497258</th>\n",
              "      <td>613a5d4d434e34d5ee06a9a9</td>\n",
              "      <td>Dense Fog Advisory</td>\n",
              "      <td>* WHAT...Visibility around 1/4 mile or less in...</td>\n",
              "      <td>If driving, slow down, use your headlights, an...</td>\n",
              "      <td>Expected</td>\n",
              "      <td>Moderate</td>\n",
              "    </tr>\n",
              "    <tr>\n",
              "      <th>1497259</th>\n",
              "      <td>613a5dc6434e34d5ee06bd10</td>\n",
              "      <td>Special Weather Statement</td>\n",
              "      <td>At 745 AM MDT/845 AM CDT/, Doppler radar was t...</td>\n",
              "      <td>If outdoors, consider seeking shelter inside a...</td>\n",
              "      <td>Expected</td>\n",
              "      <td>Moderate</td>\n",
              "    </tr>\n",
              "  </tbody>\n",
              "</table>\n",
              "<p>1497260 rows × 6 columns</p>\n",
              "</div>\n",
              "    <div class=\"colab-df-buttons\">\n",
              "\n",
              "  <div class=\"colab-df-container\">\n",
              "    <button class=\"colab-df-convert\" onclick=\"convertToInteractive('df-3c85b489-5530-42b6-a31e-e9c36e9994fd')\"\n",
              "            title=\"Convert this dataframe to an interactive table.\"\n",
              "            style=\"display:none;\">\n",
              "\n",
              "  <svg xmlns=\"http://www.w3.org/2000/svg\" height=\"24px\" viewBox=\"0 -960 960 960\">\n",
              "    <path d=\"M120-120v-720h720v720H120Zm60-500h600v-160H180v160Zm220 220h160v-160H400v160Zm0 220h160v-160H400v160ZM180-400h160v-160H180v160Zm440 0h160v-160H620v160ZM180-180h160v-160H180v160Zm440 0h160v-160H620v160Z\"/>\n",
              "  </svg>\n",
              "    </button>\n",
              "\n",
              "  <style>\n",
              "    .colab-df-container {\n",
              "      display:flex;\n",
              "      gap: 12px;\n",
              "    }\n",
              "\n",
              "    .colab-df-convert {\n",
              "      background-color: #E8F0FE;\n",
              "      border: none;\n",
              "      border-radius: 50%;\n",
              "      cursor: pointer;\n",
              "      display: none;\n",
              "      fill: #1967D2;\n",
              "      height: 32px;\n",
              "      padding: 0 0 0 0;\n",
              "      width: 32px;\n",
              "    }\n",
              "\n",
              "    .colab-df-convert:hover {\n",
              "      background-color: #E2EBFA;\n",
              "      box-shadow: 0px 1px 2px rgba(60, 64, 67, 0.3), 0px 1px 3px 1px rgba(60, 64, 67, 0.15);\n",
              "      fill: #174EA6;\n",
              "    }\n",
              "\n",
              "    .colab-df-buttons div {\n",
              "      margin-bottom: 4px;\n",
              "    }\n",
              "\n",
              "    [theme=dark] .colab-df-convert {\n",
              "      background-color: #3B4455;\n",
              "      fill: #D2E3FC;\n",
              "    }\n",
              "\n",
              "    [theme=dark] .colab-df-convert:hover {\n",
              "      background-color: #434B5C;\n",
              "      box-shadow: 0px 1px 3px 1px rgba(0, 0, 0, 0.15);\n",
              "      filter: drop-shadow(0px 1px 2px rgba(0, 0, 0, 0.3));\n",
              "      fill: #FFFFFF;\n",
              "    }\n",
              "  </style>\n",
              "\n",
              "    <script>\n",
              "      const buttonEl =\n",
              "        document.querySelector('#df-3c85b489-5530-42b6-a31e-e9c36e9994fd button.colab-df-convert');\n",
              "      buttonEl.style.display =\n",
              "        google.colab.kernel.accessAllowed ? 'block' : 'none';\n",
              "\n",
              "      async function convertToInteractive(key) {\n",
              "        const element = document.querySelector('#df-3c85b489-5530-42b6-a31e-e9c36e9994fd');\n",
              "        const dataTable =\n",
              "          await google.colab.kernel.invokeFunction('convertToInteractive',\n",
              "                                                    [key], {});\n",
              "        if (!dataTable) return;\n",
              "\n",
              "        const docLinkHtml = 'Like what you see? Visit the ' +\n",
              "          '<a target=\"_blank\" href=https://colab.research.google.com/notebooks/data_table.ipynb>data table notebook</a>'\n",
              "          + ' to learn more about interactive tables.';\n",
              "        element.innerHTML = '';\n",
              "        dataTable['output_type'] = 'display_data';\n",
              "        await google.colab.output.renderOutput(dataTable, element);\n",
              "        const docLink = document.createElement('div');\n",
              "        docLink.innerHTML = docLinkHtml;\n",
              "        element.appendChild(docLink);\n",
              "      }\n",
              "    </script>\n",
              "  </div>\n",
              "\n",
              "\n",
              "<div id=\"df-bc647a01-899a-494a-80ae-291a1b7fe4f5\">\n",
              "  <button class=\"colab-df-quickchart\" onclick=\"quickchart('df-bc647a01-899a-494a-80ae-291a1b7fe4f5')\"\n",
              "            title=\"Suggest charts\"\n",
              "            style=\"display:none;\">\n",
              "\n",
              "<svg xmlns=\"http://www.w3.org/2000/svg\" height=\"24px\"viewBox=\"0 0 24 24\"\n",
              "     width=\"24px\">\n",
              "    <g>\n",
              "        <path d=\"M19 3H5c-1.1 0-2 .9-2 2v14c0 1.1.9 2 2 2h14c1.1 0 2-.9 2-2V5c0-1.1-.9-2-2-2zM9 17H7v-7h2v7zm4 0h-2V7h2v10zm4 0h-2v-4h2v4z\"/>\n",
              "    </g>\n",
              "</svg>\n",
              "  </button>\n",
              "\n",
              "<style>\n",
              "  .colab-df-quickchart {\n",
              "      --bg-color: #E8F0FE;\n",
              "      --fill-color: #1967D2;\n",
              "      --hover-bg-color: #E2EBFA;\n",
              "      --hover-fill-color: #174EA6;\n",
              "      --disabled-fill-color: #AAA;\n",
              "      --disabled-bg-color: #DDD;\n",
              "  }\n",
              "\n",
              "  [theme=dark] .colab-df-quickchart {\n",
              "      --bg-color: #3B4455;\n",
              "      --fill-color: #D2E3FC;\n",
              "      --hover-bg-color: #434B5C;\n",
              "      --hover-fill-color: #FFFFFF;\n",
              "      --disabled-bg-color: #3B4455;\n",
              "      --disabled-fill-color: #666;\n",
              "  }\n",
              "\n",
              "  .colab-df-quickchart {\n",
              "    background-color: var(--bg-color);\n",
              "    border: none;\n",
              "    border-radius: 50%;\n",
              "    cursor: pointer;\n",
              "    display: none;\n",
              "    fill: var(--fill-color);\n",
              "    height: 32px;\n",
              "    padding: 0;\n",
              "    width: 32px;\n",
              "  }\n",
              "\n",
              "  .colab-df-quickchart:hover {\n",
              "    background-color: var(--hover-bg-color);\n",
              "    box-shadow: 0 1px 2px rgba(60, 64, 67, 0.3), 0 1px 3px 1px rgba(60, 64, 67, 0.15);\n",
              "    fill: var(--button-hover-fill-color);\n",
              "  }\n",
              "\n",
              "  .colab-df-quickchart-complete:disabled,\n",
              "  .colab-df-quickchart-complete:disabled:hover {\n",
              "    background-color: var(--disabled-bg-color);\n",
              "    fill: var(--disabled-fill-color);\n",
              "    box-shadow: none;\n",
              "  }\n",
              "\n",
              "  .colab-df-spinner {\n",
              "    border: 2px solid var(--fill-color);\n",
              "    border-color: transparent;\n",
              "    border-bottom-color: var(--fill-color);\n",
              "    animation:\n",
              "      spin 1s steps(1) infinite;\n",
              "  }\n",
              "\n",
              "  @keyframes spin {\n",
              "    0% {\n",
              "      border-color: transparent;\n",
              "      border-bottom-color: var(--fill-color);\n",
              "      border-left-color: var(--fill-color);\n",
              "    }\n",
              "    20% {\n",
              "      border-color: transparent;\n",
              "      border-left-color: var(--fill-color);\n",
              "      border-top-color: var(--fill-color);\n",
              "    }\n",
              "    30% {\n",
              "      border-color: transparent;\n",
              "      border-left-color: var(--fill-color);\n",
              "      border-top-color: var(--fill-color);\n",
              "      border-right-color: var(--fill-color);\n",
              "    }\n",
              "    40% {\n",
              "      border-color: transparent;\n",
              "      border-right-color: var(--fill-color);\n",
              "      border-top-color: var(--fill-color);\n",
              "    }\n",
              "    60% {\n",
              "      border-color: transparent;\n",
              "      border-right-color: var(--fill-color);\n",
              "    }\n",
              "    80% {\n",
              "      border-color: transparent;\n",
              "      border-right-color: var(--fill-color);\n",
              "      border-bottom-color: var(--fill-color);\n",
              "    }\n",
              "    90% {\n",
              "      border-color: transparent;\n",
              "      border-bottom-color: var(--fill-color);\n",
              "    }\n",
              "  }\n",
              "</style>\n",
              "\n",
              "  <script>\n",
              "    async function quickchart(key) {\n",
              "      const quickchartButtonEl =\n",
              "        document.querySelector('#' + key + ' button');\n",
              "      quickchartButtonEl.disabled = true;  // To prevent multiple clicks.\n",
              "      quickchartButtonEl.classList.add('colab-df-spinner');\n",
              "      try {\n",
              "        const charts = await google.colab.kernel.invokeFunction(\n",
              "            'suggestCharts', [key], {});\n",
              "      } catch (error) {\n",
              "        console.error('Error during call to suggestCharts:', error);\n",
              "      }\n",
              "      quickchartButtonEl.classList.remove('colab-df-spinner');\n",
              "      quickchartButtonEl.classList.add('colab-df-quickchart-complete');\n",
              "    }\n",
              "    (() => {\n",
              "      let quickchartButtonEl =\n",
              "        document.querySelector('#df-bc647a01-899a-494a-80ae-291a1b7fe4f5 button');\n",
              "      quickchartButtonEl.style.display =\n",
              "        google.colab.kernel.accessAllowed ? 'block' : 'none';\n",
              "    })();\n",
              "  </script>\n",
              "</div>\n",
              "\n",
              "  <div id=\"id_9ecab083-802d-4d56-b6ef-9da87e47c451\">\n",
              "    <style>\n",
              "      .colab-df-generate {\n",
              "        background-color: #E8F0FE;\n",
              "        border: none;\n",
              "        border-radius: 50%;\n",
              "        cursor: pointer;\n",
              "        display: none;\n",
              "        fill: #1967D2;\n",
              "        height: 32px;\n",
              "        padding: 0 0 0 0;\n",
              "        width: 32px;\n",
              "      }\n",
              "\n",
              "      .colab-df-generate:hover {\n",
              "        background-color: #E2EBFA;\n",
              "        box-shadow: 0px 1px 2px rgba(60, 64, 67, 0.3), 0px 1px 3px 1px rgba(60, 64, 67, 0.15);\n",
              "        fill: #174EA6;\n",
              "      }\n",
              "\n",
              "      [theme=dark] .colab-df-generate {\n",
              "        background-color: #3B4455;\n",
              "        fill: #D2E3FC;\n",
              "      }\n",
              "\n",
              "      [theme=dark] .colab-df-generate:hover {\n",
              "        background-color: #434B5C;\n",
              "        box-shadow: 0px 1px 3px 1px rgba(0, 0, 0, 0.15);\n",
              "        filter: drop-shadow(0px 1px 2px rgba(0, 0, 0, 0.3));\n",
              "        fill: #FFFFFF;\n",
              "      }\n",
              "    </style>\n",
              "    <button class=\"colab-df-generate\" onclick=\"generateWithVariable('df_alertas')\"\n",
              "            title=\"Generate code using this dataframe.\"\n",
              "            style=\"display:none;\">\n",
              "\n",
              "  <svg xmlns=\"http://www.w3.org/2000/svg\" height=\"24px\"viewBox=\"0 0 24 24\"\n",
              "       width=\"24px\">\n",
              "    <path d=\"M7,19H8.4L18.45,9,17,7.55,7,17.6ZM5,21V16.75L18.45,3.32a2,2,0,0,1,2.83,0l1.4,1.43a1.91,1.91,0,0,1,.58,1.4,1.91,1.91,0,0,1-.58,1.4L9.25,21ZM18.45,9,17,7.55Zm-12,3A5.31,5.31,0,0,0,4.9,8.1,5.31,5.31,0,0,0,1,6.5,5.31,5.31,0,0,0,4.9,4.9,5.31,5.31,0,0,0,6.5,1,5.31,5.31,0,0,0,8.1,4.9,5.31,5.31,0,0,0,12,6.5,5.46,5.46,0,0,0,6.5,12Z\"/>\n",
              "  </svg>\n",
              "    </button>\n",
              "    <script>\n",
              "      (() => {\n",
              "      const buttonEl =\n",
              "        document.querySelector('#id_9ecab083-802d-4d56-b6ef-9da87e47c451 button.colab-df-generate');\n",
              "      buttonEl.style.display =\n",
              "        google.colab.kernel.accessAllowed ? 'block' : 'none';\n",
              "\n",
              "      buttonEl.onclick = () => {\n",
              "        google.colab.notebook.generateWithVariable('df_alertas');\n",
              "      }\n",
              "      })();\n",
              "    </script>\n",
              "  </div>\n",
              "\n",
              "    </div>\n",
              "  </div>\n"
            ],
            "application/vnd.google.colaboratory.intrinsic+json": {
              "type": "dataframe",
              "variable_name": "df_alertas"
            }
          },
          "metadata": {},
          "execution_count": 36
        }
      ]
    },
    {
      "cell_type": "markdown",
      "source": [
        "# Informacion General"
      ],
      "metadata": {
        "id": "ZQROR-JFVp9U"
      }
    },
    {
      "cell_type": "code",
      "source": [
        "df_alertas.info()"
      ],
      "metadata": {
        "id": "L9y9tvKGBlbn",
        "colab": {
          "base_uri": "https://localhost:8080/"
        },
        "outputId": "df443750-d0aa-4d5c-a5ff-07d4b4da5f57"
      },
      "execution_count": null,
      "outputs": [
        {
          "output_type": "stream",
          "name": "stdout",
          "text": [
            "<class 'pandas.core.frame.DataFrame'>\n",
            "RangeIndex: 1497260 entries, 0 to 1497259\n",
            "Data columns (total 6 columns):\n",
            " #   Column       Non-Null Count    Dtype \n",
            "---  ------       --------------    ----- \n",
            " 0   id           1497260 non-null  object\n",
            " 1   event        1497260 non-null  object\n",
            " 2   description  1497260 non-null  object\n",
            " 3   instruction  1497260 non-null  object\n",
            " 4   urgency      1497260 non-null  object\n",
            " 5   severity     1497260 non-null  object\n",
            "dtypes: object(6)\n",
            "memory usage: 68.5+ MB\n"
          ]
        }
      ]
    },
    {
      "cell_type": "markdown",
      "source": [
        "###Pre procesamiento de columna 'description\".\n",
        "\n",
        "1. Eliminación de ruido:\n",
        "Este paso tiene como objetivo eliminar todos aquellos símbolos o caracteres que no aportan nada en el significado de las frases."
      ],
      "metadata": {
        "id": "0wZy0GdjV4p0"
      }
    },
    {
      "cell_type": "markdown",
      "source": [
        "Pre procesamiento de columna 'description\"."
      ],
      "metadata": {
        "id": "3LFI3RBHBgoR"
      }
    },
    {
      "cell_type": "code",
      "source": [
        "#Observamos una muestra al azar de 15 ejemplos para visualizar la columna a analizar.\n",
        "(df_alertas['description']).sample(15)"
      ],
      "metadata": {
        "colab": {
          "base_uri": "https://localhost:8080/"
        },
        "id": "f9q5hMXqV4MN",
        "outputId": "15d719c9-581d-48fb-bfff-2420264d8211"
      },
      "execution_count": null,
      "outputs": [
        {
          "output_type": "execute_result",
          "data": {
            "text/plain": [
              "629770     Affecting the following counties in Iowa...Emm...\n",
              "659975     THE NATIONAL WEATHER SERVICE IN CHICAGO  HAS I...\n",
              "409952     ..The Flood Warning continues for the followin...\n",
              "675735     The National Weather Service in Midland has is...\n",
              "385100     * WHAT...Very cold wind chills as low as 35 be...\n",
              "416447     * WHAT...Snow. Additional accumulations up to ...\n",
              "1273568    The National Weather Service in Corpus Christi...\n",
              "1078516    THE NATIONAL WEATHER SERVICE IN BINGHAMTON HAS...\n",
              "1205626    AT 748 PM CST...A SEVERE THUNDERSTORM WAS LOCA...\n",
              "991326     The National Weather Service in Indianapolis h...\n",
              "633342     THE NATIONAL WEATHER SERVICE IN RUSKIN HAS ISS...\n",
              "1263507    * WHAT...Heat index values from 105 to 110 exp...\n",
              "1459629    At 611 PM MDT, Doppler radar was tracking a st...\n",
              "995188     The National Weather Service in Flagstaff has ...\n",
              "1326489    * WHAT...Visibility one quarter mile or less i...\n",
              "Name: description, dtype: object"
            ]
          },
          "metadata": {},
          "execution_count": 38
        }
      ]
    },
    {
      "cell_type": "markdown",
      "source": [
        "Vamos a utilizar la fila 1431674 ya que ahi observamos la presencia de las palabras \\n\\n y WHAT\\WHERE asi que analizamos todo el texto de esa fila, haciendo un split de todas las palabras separadas por espacio."
      ],
      "metadata": {
        "id": "aONl-hSZWAO8"
      }
    },
    {
      "cell_type": "code",
      "source": [
        "fila = (df_alertas['description'].iloc[1431674]).split()\n",
        "print(fila)"
      ],
      "metadata": {
        "colab": {
          "base_uri": "https://localhost:8080/"
        },
        "id": "-kaor6_EWCnd",
        "outputId": "d75b30b5-adb4-432a-86ac-c01bee2d923f"
      },
      "execution_count": null,
      "outputs": [
        {
          "output_type": "stream",
          "name": "stdout",
          "text": [
            "['*', 'WHAT...Temperatures', 'up', 'to', '103', 'expected.', '*', 'WHERE...Middle', 'Rio', 'Grande', 'Valley', 'including', 'the', 'Albuquerque', 'Metro', 'Area,', 'Northwest', 'Plateau,', 'and', 'West', 'Central', 'Plateau.', '*', 'WHEN...From', 'Noon', 'to', '8', 'PM', 'MDT', 'Wednesday.', '*', 'IMPACTS...Hot', 'temperatures', 'may', 'cause', 'heat', 'illnesses.']\n"
          ]
        }
      ]
    },
    {
      "cell_type": "markdown",
      "source": [
        "Observamos que las palabras 'WHAT', 'WHERE', 'WHEN' e 'IMPACTS' estan unidas a la segunda palabra por tres puntos '...', por ello vamos a reemplazar por un espacio para separar las palabras. Despues se trabajara con puntos, asteriscos y demas signos que no sean relevantes al modelo (Normalizacion)."
      ],
      "metadata": {
        "id": "6CDwNgaaWE9u"
      }
    },
    {
      "cell_type": "code",
      "source": [
        "df_alertas['description'] = df_alertas['description'].str.replace('...', ' ', regex=False)\n",
        "df_alertas['description'].iloc[1431674] #Probamos esa fila"
      ],
      "metadata": {
        "colab": {
          "base_uri": "https://localhost:8080/",
          "height": 53
        },
        "id": "yb0Jb6b4Wzku",
        "outputId": "53e1eb3d-290f-4eec-b31b-c57929e89ae3"
      },
      "execution_count": null,
      "outputs": [
        {
          "output_type": "execute_result",
          "data": {
            "text/plain": [
              "'* WHAT Temperatures up to 103 expected.\\n\\n* WHERE Middle Rio Grande Valley including the Albuquerque Metro\\nArea, Northwest Plateau, and West Central Plateau.\\n\\n* WHEN From Noon to 8 PM MDT Wednesday.\\n\\n* IMPACTS Hot temperatures may cause heat illnesses.\\n'"
            ],
            "application/vnd.google.colaboratory.intrinsic+json": {
              "type": "string"
            }
          },
          "metadata": {},
          "execution_count": 42
        }
      ]
    },
    {
      "cell_type": "markdown",
      "source": [
        "Ahora tambien observamos que figura como textos codigos de salto de linea \"\\n\\n\" y \"\\n\"."
      ],
      "metadata": {
        "id": "rFFdJ_Hbjv7A"
      }
    },
    {
      "cell_type": "code",
      "source": [
        "#Se observan palabras con \"\\n\"\n",
        "palabra_a_contar1 = '\\n'\n",
        "palabras_1 = df_alertas['description'].str.count(palabra_a_contar1).sum()\n",
        "print(palabras_1)"
      ],
      "metadata": {
        "colab": {
          "base_uri": "https://localhost:8080/"
        },
        "id": "8QPh3cGBWHg3",
        "outputId": "6a66ef39-288c-441e-9766-127b4912bb67"
      },
      "execution_count": null,
      "outputs": [
        {
          "output_type": "stream",
          "name": "stdout",
          "text": [
            "24137660\n"
          ]
        }
      ]
    },
    {
      "cell_type": "markdown",
      "source": [
        "Es una cantidad importe de esas palabras. En este caso reemplazamos como el caso anterior por un espacio."
      ],
      "metadata": {
        "id": "5Vd_zm5AWLVW"
      }
    },
    {
      "cell_type": "code",
      "source": [
        "df_alertas['description'] = df_alertas['description'].str.replace('\\n', ' ', regex=False)\n",
        "df_alertas['description'].iloc[1431674] #Probamos esa fila"
      ],
      "metadata": {
        "colab": {
          "base_uri": "https://localhost:8080/",
          "height": 53
        },
        "id": "vWwjB0zLlGvi",
        "outputId": "a26e94de-093d-4c32-ee80-14f7f7a040d6"
      },
      "execution_count": null,
      "outputs": [
        {
          "output_type": "execute_result",
          "data": {
            "text/plain": [
              "'* WHAT Temperatures up to 103 expected.  * WHERE Middle Rio Grande Valley including the Albuquerque Metro Area, Northwest Plateau, and West Central Plateau.  * WHEN From Noon to 8 PM MDT Wednesday.  * IMPACTS Hot temperatures may cause heat illnesses. '"
            ],
            "application/vnd.google.colaboratory.intrinsic+json": {
              "type": "string"
            }
          },
          "metadata": {},
          "execution_count": 46
        }
      ]
    },
    {
      "cell_type": "code",
      "source": [
        "df_alertas.sample(10)"
      ],
      "metadata": {
        "colab": {
          "base_uri": "https://localhost:8080/",
          "height": 536
        },
        "id": "t1d2BfTTlRNz",
        "outputId": "34163e0f-cc14-441c-9713-79a002779c49"
      },
      "execution_count": null,
      "outputs": [
        {
          "output_type": "execute_result",
          "data": {
            "text/plain": [
              "                               id                        event  \\\n",
              "203665   5e6db592023f1930efc5f342  Severe Thunderstorm Warning   \n",
              "254810   5e6db7ac023f1930efd02d73  Severe Thunderstorm Warning   \n",
              "415487   5e6dbb72023f1930efe1ec39            Flash Flood Watch   \n",
              "523147   5e6dd59d023f1930ef55004c     Marine Weather Statement   \n",
              "358939   5e6dda21023f1930ef664d7c               Flood Advisory   \n",
              "302056   5e6ddb08023f1930ef69aa62                Flood Warning   \n",
              "1061234  5e6dccbb023f1930ef2feb7a     Marine Weather Statement   \n",
              "174753   5e6db437023f1930efbea7b8          Coastal Flood Watch   \n",
              "1451827  60ee328d5d037ccb7d8faa2f       Excessive Heat Warning   \n",
              "533313   5e6dd5f7023f1930ef5665e2    Special Weather Statement   \n",
              "\n",
              "                                               description  \\\n",
              "203665   At 415 PM EDT, severe thunderstorms were locat...   \n",
              "254810   The National Weather Service in Hastings has i...   \n",
              "415487   The Flash Flood Watch continues for  * A porti...   \n",
              "523147   The areas affected include  Lake Pontchartrain...   \n",
              "358939   Cumberland River At Hunters Point affecting Wi...   \n",
              "302056   Du Page River near Plainfield affecting Will C...   \n",
              "1061234  FOR THE FOLLOWING AREAS  COASTAL WATERS FROM E...   \n",
              "174753   * LOCATIONS In South Carolina, Coastal Jasper....   \n",
              "1451827  * WHAT Dangerously hot conditions with tempera...   \n",
              "533313   At 947 AM EDT, Doppler radar was tracking a sw...   \n",
              "\n",
              "                                               instruction    urgency  \\\n",
              "203665   For your protection move to an interior room o...  Immediate   \n",
              "254810   For your protection move to an interior room o...  Immediate   \n",
              "415487   A Flash Flood Watch means that conditions may ...     Future   \n",
              "523147   Mariners can expect gusty winds to around 30 k...   Expected   \n",
              "358939   PRECAUTIONARY/PREPAREDNESS ACTIONS...\\n\\nStay ...   Expected   \n",
              "302056   PRECAUTIONARY/PREPAREDNESS ACTIONS...\\n\\nSafet...  Immediate   \n",
              "1061234  MOVE TO SAFE HARBOR IMMEDIATELY AS GUSTY WINDS...  Immediate   \n",
              "174753   Take the necessary actions to protect flood-pr...     Future   \n",
              "1451827  Drink plenty of fluids, stay in an air-conditi...   Expected   \n",
              "533313   Do not drive through flooded roads or underpas...   Expected   \n",
              "\n",
              "         severity  \n",
              "203665     Severe  \n",
              "254810     Severe  \n",
              "415487     Severe  \n",
              "523147      Minor  \n",
              "358939      Minor  \n",
              "302056     Severe  \n",
              "1061234    Severe  \n",
              "174753   Moderate  \n",
              "1451827    Severe  \n",
              "533313   Moderate  "
            ],
            "text/html": [
              "\n",
              "  <div id=\"df-8aa1aaf9-739b-4da1-bd72-130235efaa02\" class=\"colab-df-container\">\n",
              "    <div>\n",
              "<style scoped>\n",
              "    .dataframe tbody tr th:only-of-type {\n",
              "        vertical-align: middle;\n",
              "    }\n",
              "\n",
              "    .dataframe tbody tr th {\n",
              "        vertical-align: top;\n",
              "    }\n",
              "\n",
              "    .dataframe thead th {\n",
              "        text-align: right;\n",
              "    }\n",
              "</style>\n",
              "<table border=\"1\" class=\"dataframe\">\n",
              "  <thead>\n",
              "    <tr style=\"text-align: right;\">\n",
              "      <th></th>\n",
              "      <th>id</th>\n",
              "      <th>event</th>\n",
              "      <th>description</th>\n",
              "      <th>instruction</th>\n",
              "      <th>urgency</th>\n",
              "      <th>severity</th>\n",
              "    </tr>\n",
              "  </thead>\n",
              "  <tbody>\n",
              "    <tr>\n",
              "      <th>203665</th>\n",
              "      <td>5e6db592023f1930efc5f342</td>\n",
              "      <td>Severe Thunderstorm Warning</td>\n",
              "      <td>At 415 PM EDT, severe thunderstorms were locat...</td>\n",
              "      <td>For your protection move to an interior room o...</td>\n",
              "      <td>Immediate</td>\n",
              "      <td>Severe</td>\n",
              "    </tr>\n",
              "    <tr>\n",
              "      <th>254810</th>\n",
              "      <td>5e6db7ac023f1930efd02d73</td>\n",
              "      <td>Severe Thunderstorm Warning</td>\n",
              "      <td>The National Weather Service in Hastings has i...</td>\n",
              "      <td>For your protection move to an interior room o...</td>\n",
              "      <td>Immediate</td>\n",
              "      <td>Severe</td>\n",
              "    </tr>\n",
              "    <tr>\n",
              "      <th>415487</th>\n",
              "      <td>5e6dbb72023f1930efe1ec39</td>\n",
              "      <td>Flash Flood Watch</td>\n",
              "      <td>The Flash Flood Watch continues for  * A porti...</td>\n",
              "      <td>A Flash Flood Watch means that conditions may ...</td>\n",
              "      <td>Future</td>\n",
              "      <td>Severe</td>\n",
              "    </tr>\n",
              "    <tr>\n",
              "      <th>523147</th>\n",
              "      <td>5e6dd59d023f1930ef55004c</td>\n",
              "      <td>Marine Weather Statement</td>\n",
              "      <td>The areas affected include  Lake Pontchartrain...</td>\n",
              "      <td>Mariners can expect gusty winds to around 30 k...</td>\n",
              "      <td>Expected</td>\n",
              "      <td>Minor</td>\n",
              "    </tr>\n",
              "    <tr>\n",
              "      <th>358939</th>\n",
              "      <td>5e6dda21023f1930ef664d7c</td>\n",
              "      <td>Flood Advisory</td>\n",
              "      <td>Cumberland River At Hunters Point affecting Wi...</td>\n",
              "      <td>PRECAUTIONARY/PREPAREDNESS ACTIONS...\\n\\nStay ...</td>\n",
              "      <td>Expected</td>\n",
              "      <td>Minor</td>\n",
              "    </tr>\n",
              "    <tr>\n",
              "      <th>302056</th>\n",
              "      <td>5e6ddb08023f1930ef69aa62</td>\n",
              "      <td>Flood Warning</td>\n",
              "      <td>Du Page River near Plainfield affecting Will C...</td>\n",
              "      <td>PRECAUTIONARY/PREPAREDNESS ACTIONS...\\n\\nSafet...</td>\n",
              "      <td>Immediate</td>\n",
              "      <td>Severe</td>\n",
              "    </tr>\n",
              "    <tr>\n",
              "      <th>1061234</th>\n",
              "      <td>5e6dccbb023f1930ef2feb7a</td>\n",
              "      <td>Marine Weather Statement</td>\n",
              "      <td>FOR THE FOLLOWING AREAS  COASTAL WATERS FROM E...</td>\n",
              "      <td>MOVE TO SAFE HARBOR IMMEDIATELY AS GUSTY WINDS...</td>\n",
              "      <td>Immediate</td>\n",
              "      <td>Severe</td>\n",
              "    </tr>\n",
              "    <tr>\n",
              "      <th>174753</th>\n",
              "      <td>5e6db437023f1930efbea7b8</td>\n",
              "      <td>Coastal Flood Watch</td>\n",
              "      <td>* LOCATIONS In South Carolina, Coastal Jasper....</td>\n",
              "      <td>Take the necessary actions to protect flood-pr...</td>\n",
              "      <td>Future</td>\n",
              "      <td>Moderate</td>\n",
              "    </tr>\n",
              "    <tr>\n",
              "      <th>1451827</th>\n",
              "      <td>60ee328d5d037ccb7d8faa2f</td>\n",
              "      <td>Excessive Heat Warning</td>\n",
              "      <td>* WHAT Dangerously hot conditions with tempera...</td>\n",
              "      <td>Drink plenty of fluids, stay in an air-conditi...</td>\n",
              "      <td>Expected</td>\n",
              "      <td>Severe</td>\n",
              "    </tr>\n",
              "    <tr>\n",
              "      <th>533313</th>\n",
              "      <td>5e6dd5f7023f1930ef5665e2</td>\n",
              "      <td>Special Weather Statement</td>\n",
              "      <td>At 947 AM EDT, Doppler radar was tracking a sw...</td>\n",
              "      <td>Do not drive through flooded roads or underpas...</td>\n",
              "      <td>Expected</td>\n",
              "      <td>Moderate</td>\n",
              "    </tr>\n",
              "  </tbody>\n",
              "</table>\n",
              "</div>\n",
              "    <div class=\"colab-df-buttons\">\n",
              "\n",
              "  <div class=\"colab-df-container\">\n",
              "    <button class=\"colab-df-convert\" onclick=\"convertToInteractive('df-8aa1aaf9-739b-4da1-bd72-130235efaa02')\"\n",
              "            title=\"Convert this dataframe to an interactive table.\"\n",
              "            style=\"display:none;\">\n",
              "\n",
              "  <svg xmlns=\"http://www.w3.org/2000/svg\" height=\"24px\" viewBox=\"0 -960 960 960\">\n",
              "    <path d=\"M120-120v-720h720v720H120Zm60-500h600v-160H180v160Zm220 220h160v-160H400v160Zm0 220h160v-160H400v160ZM180-400h160v-160H180v160Zm440 0h160v-160H620v160ZM180-180h160v-160H180v160Zm440 0h160v-160H620v160Z\"/>\n",
              "  </svg>\n",
              "    </button>\n",
              "\n",
              "  <style>\n",
              "    .colab-df-container {\n",
              "      display:flex;\n",
              "      gap: 12px;\n",
              "    }\n",
              "\n",
              "    .colab-df-convert {\n",
              "      background-color: #E8F0FE;\n",
              "      border: none;\n",
              "      border-radius: 50%;\n",
              "      cursor: pointer;\n",
              "      display: none;\n",
              "      fill: #1967D2;\n",
              "      height: 32px;\n",
              "      padding: 0 0 0 0;\n",
              "      width: 32px;\n",
              "    }\n",
              "\n",
              "    .colab-df-convert:hover {\n",
              "      background-color: #E2EBFA;\n",
              "      box-shadow: 0px 1px 2px rgba(60, 64, 67, 0.3), 0px 1px 3px 1px rgba(60, 64, 67, 0.15);\n",
              "      fill: #174EA6;\n",
              "    }\n",
              "\n",
              "    .colab-df-buttons div {\n",
              "      margin-bottom: 4px;\n",
              "    }\n",
              "\n",
              "    [theme=dark] .colab-df-convert {\n",
              "      background-color: #3B4455;\n",
              "      fill: #D2E3FC;\n",
              "    }\n",
              "\n",
              "    [theme=dark] .colab-df-convert:hover {\n",
              "      background-color: #434B5C;\n",
              "      box-shadow: 0px 1px 3px 1px rgba(0, 0, 0, 0.15);\n",
              "      filter: drop-shadow(0px 1px 2px rgba(0, 0, 0, 0.3));\n",
              "      fill: #FFFFFF;\n",
              "    }\n",
              "  </style>\n",
              "\n",
              "    <script>\n",
              "      const buttonEl =\n",
              "        document.querySelector('#df-8aa1aaf9-739b-4da1-bd72-130235efaa02 button.colab-df-convert');\n",
              "      buttonEl.style.display =\n",
              "        google.colab.kernel.accessAllowed ? 'block' : 'none';\n",
              "\n",
              "      async function convertToInteractive(key) {\n",
              "        const element = document.querySelector('#df-8aa1aaf9-739b-4da1-bd72-130235efaa02');\n",
              "        const dataTable =\n",
              "          await google.colab.kernel.invokeFunction('convertToInteractive',\n",
              "                                                    [key], {});\n",
              "        if (!dataTable) return;\n",
              "\n",
              "        const docLinkHtml = 'Like what you see? Visit the ' +\n",
              "          '<a target=\"_blank\" href=https://colab.research.google.com/notebooks/data_table.ipynb>data table notebook</a>'\n",
              "          + ' to learn more about interactive tables.';\n",
              "        element.innerHTML = '';\n",
              "        dataTable['output_type'] = 'display_data';\n",
              "        await google.colab.output.renderOutput(dataTable, element);\n",
              "        const docLink = document.createElement('div');\n",
              "        docLink.innerHTML = docLinkHtml;\n",
              "        element.appendChild(docLink);\n",
              "      }\n",
              "    </script>\n",
              "  </div>\n",
              "\n",
              "\n",
              "<div id=\"df-ce6e09f5-48ee-46eb-ba41-a52e4d159ae3\">\n",
              "  <button class=\"colab-df-quickchart\" onclick=\"quickchart('df-ce6e09f5-48ee-46eb-ba41-a52e4d159ae3')\"\n",
              "            title=\"Suggest charts\"\n",
              "            style=\"display:none;\">\n",
              "\n",
              "<svg xmlns=\"http://www.w3.org/2000/svg\" height=\"24px\"viewBox=\"0 0 24 24\"\n",
              "     width=\"24px\">\n",
              "    <g>\n",
              "        <path d=\"M19 3H5c-1.1 0-2 .9-2 2v14c0 1.1.9 2 2 2h14c1.1 0 2-.9 2-2V5c0-1.1-.9-2-2-2zM9 17H7v-7h2v7zm4 0h-2V7h2v10zm4 0h-2v-4h2v4z\"/>\n",
              "    </g>\n",
              "</svg>\n",
              "  </button>\n",
              "\n",
              "<style>\n",
              "  .colab-df-quickchart {\n",
              "      --bg-color: #E8F0FE;\n",
              "      --fill-color: #1967D2;\n",
              "      --hover-bg-color: #E2EBFA;\n",
              "      --hover-fill-color: #174EA6;\n",
              "      --disabled-fill-color: #AAA;\n",
              "      --disabled-bg-color: #DDD;\n",
              "  }\n",
              "\n",
              "  [theme=dark] .colab-df-quickchart {\n",
              "      --bg-color: #3B4455;\n",
              "      --fill-color: #D2E3FC;\n",
              "      --hover-bg-color: #434B5C;\n",
              "      --hover-fill-color: #FFFFFF;\n",
              "      --disabled-bg-color: #3B4455;\n",
              "      --disabled-fill-color: #666;\n",
              "  }\n",
              "\n",
              "  .colab-df-quickchart {\n",
              "    background-color: var(--bg-color);\n",
              "    border: none;\n",
              "    border-radius: 50%;\n",
              "    cursor: pointer;\n",
              "    display: none;\n",
              "    fill: var(--fill-color);\n",
              "    height: 32px;\n",
              "    padding: 0;\n",
              "    width: 32px;\n",
              "  }\n",
              "\n",
              "  .colab-df-quickchart:hover {\n",
              "    background-color: var(--hover-bg-color);\n",
              "    box-shadow: 0 1px 2px rgba(60, 64, 67, 0.3), 0 1px 3px 1px rgba(60, 64, 67, 0.15);\n",
              "    fill: var(--button-hover-fill-color);\n",
              "  }\n",
              "\n",
              "  .colab-df-quickchart-complete:disabled,\n",
              "  .colab-df-quickchart-complete:disabled:hover {\n",
              "    background-color: var(--disabled-bg-color);\n",
              "    fill: var(--disabled-fill-color);\n",
              "    box-shadow: none;\n",
              "  }\n",
              "\n",
              "  .colab-df-spinner {\n",
              "    border: 2px solid var(--fill-color);\n",
              "    border-color: transparent;\n",
              "    border-bottom-color: var(--fill-color);\n",
              "    animation:\n",
              "      spin 1s steps(1) infinite;\n",
              "  }\n",
              "\n",
              "  @keyframes spin {\n",
              "    0% {\n",
              "      border-color: transparent;\n",
              "      border-bottom-color: var(--fill-color);\n",
              "      border-left-color: var(--fill-color);\n",
              "    }\n",
              "    20% {\n",
              "      border-color: transparent;\n",
              "      border-left-color: var(--fill-color);\n",
              "      border-top-color: var(--fill-color);\n",
              "    }\n",
              "    30% {\n",
              "      border-color: transparent;\n",
              "      border-left-color: var(--fill-color);\n",
              "      border-top-color: var(--fill-color);\n",
              "      border-right-color: var(--fill-color);\n",
              "    }\n",
              "    40% {\n",
              "      border-color: transparent;\n",
              "      border-right-color: var(--fill-color);\n",
              "      border-top-color: var(--fill-color);\n",
              "    }\n",
              "    60% {\n",
              "      border-color: transparent;\n",
              "      border-right-color: var(--fill-color);\n",
              "    }\n",
              "    80% {\n",
              "      border-color: transparent;\n",
              "      border-right-color: var(--fill-color);\n",
              "      border-bottom-color: var(--fill-color);\n",
              "    }\n",
              "    90% {\n",
              "      border-color: transparent;\n",
              "      border-bottom-color: var(--fill-color);\n",
              "    }\n",
              "  }\n",
              "</style>\n",
              "\n",
              "  <script>\n",
              "    async function quickchart(key) {\n",
              "      const quickchartButtonEl =\n",
              "        document.querySelector('#' + key + ' button');\n",
              "      quickchartButtonEl.disabled = true;  // To prevent multiple clicks.\n",
              "      quickchartButtonEl.classList.add('colab-df-spinner');\n",
              "      try {\n",
              "        const charts = await google.colab.kernel.invokeFunction(\n",
              "            'suggestCharts', [key], {});\n",
              "      } catch (error) {\n",
              "        console.error('Error during call to suggestCharts:', error);\n",
              "      }\n",
              "      quickchartButtonEl.classList.remove('colab-df-spinner');\n",
              "      quickchartButtonEl.classList.add('colab-df-quickchart-complete');\n",
              "    }\n",
              "    (() => {\n",
              "      let quickchartButtonEl =\n",
              "        document.querySelector('#df-ce6e09f5-48ee-46eb-ba41-a52e4d159ae3 button');\n",
              "      quickchartButtonEl.style.display =\n",
              "        google.colab.kernel.accessAllowed ? 'block' : 'none';\n",
              "    })();\n",
              "  </script>\n",
              "</div>\n",
              "\n",
              "    </div>\n",
              "  </div>\n"
            ],
            "application/vnd.google.colaboratory.intrinsic+json": {
              "type": "dataframe",
              "summary": "{\n  \"name\": \"df_alertas\",\n  \"rows\": 10,\n  \"fields\": [\n    {\n      \"column\": \"id\",\n      \"properties\": {\n        \"dtype\": \"string\",\n        \"num_unique_values\": 10,\n        \"samples\": [\n          \"60ee328d5d037ccb7d8faa2f\",\n          \"5e6db7ac023f1930efd02d73\",\n          \"5e6ddb08023f1930ef69aa62\"\n        ],\n        \"semantic_type\": \"\",\n        \"description\": \"\"\n      }\n    },\n    {\n      \"column\": \"event\",\n      \"properties\": {\n        \"dtype\": \"string\",\n        \"num_unique_values\": 8,\n        \"samples\": [\n          \"Flash Flood Watch\",\n          \"Coastal Flood Watch\",\n          \"Severe Thunderstorm Warning\"\n        ],\n        \"semantic_type\": \"\",\n        \"description\": \"\"\n      }\n    },\n    {\n      \"column\": \"description\",\n      \"properties\": {\n        \"dtype\": \"string\",\n        \"num_unique_values\": 10,\n        \"samples\": [\n          \"* WHAT Dangerously hot conditions with temperatures of 101 to 111 degrees, hottest today. Overnight temperatures of 74 to 84 degrees in warmer valleys.  * WHERE San Luis Obispo County Interior Valleys and Mountains, as well as the Cuyama and Antelope Valleys.  * WHEN Until 9 PM PDT this evening.  * IMPACTS Extreme heat will significantly increase the potential for heat related illnesses for anyone, especially for sensitive populations including the very young, the very old, and those active outdoors. \",\n          \"The National Weather Service in Hastings has issued a  * Severe Thunderstorm Warning for  Franklin County in south central Nebraska  Phelps County in south central Nebraska  Kearney County in south central Nebraska  Eastern Gosper County in south central Nebraska  Eastern Furnas County in south central Nebraska  Harlan County in south central Nebraska   * Until 1145 PM CDT.  * At 1056 PM CDT, severe thunderstorms were located along a line extending from near Eustis to 10 miles south of Smithfield to near Oxford to near Stamford, moving east at 50 mph.  HAZARD 70 mph wind gusts and penny size hail.  SOURCE Radar indicated. At 1050pm damaging wind gusts estimated around 70 mph were reported near Edison, NE in Furnas County.  IMPACT Expect considerable tree damage. Damage is likely to mobile homes, roofs, and outbuildings.  * Locations impacted include  Holdrege, Minden, Alma, Franklin, Oxford, Bertrand, Axtell, Elwood, Orleans, Loomis, Hildreth, Wilcox, Campbell, Funk, Stamford, Republican City, Upland, Atlanta, Naponee and Bloomington. \",\n          \"Du Page River near Plainfield affecting Will County Kankakee River near Kouts affecting Jasper and Porter Counties Kankakee River at Momence affecting Kankakee County  The following forecasts are based on observed precipitation as well as forecast precipitation 24-48 hours into the future. The Flood Warning continues for The Kankakee River at Momence, or from IL/IN state line downstream to confluence with Iroquois River at Aroma Park. * until Monday morning. * At  245 AM Wednesday the stage was 4.8 feet. * Flood stage is 5.0 feet. * Minor flooding is forecast. * Forecast Rise above flood stage by early this morning and continue to rise to near 6.0 feet by early Thursday. * Impact At 6.0 feet Flooding affects the campgrounds located 3 miles downstream of state line. \"\n        ],\n        \"semantic_type\": \"\",\n        \"description\": \"\"\n      }\n    },\n    {\n      \"column\": \"instruction\",\n      \"properties\": {\n        \"dtype\": \"string\",\n        \"num_unique_values\": 10,\n        \"samples\": [\n          \"Drink plenty of fluids, stay in an air-conditioned room, stay out\\nof the sun, and check up on relatives and neighbors. Young\\nchildren and pets should never be left unattended in vehicles\\nunder any circumstances.\\n\\nTake extra precautions if you work or spend time outside. When\\npossible reschedule strenuous activities to early morning or\\nevening. Know the signs and symptoms of heat exhaustion and heat\\nstroke. Wear lightweight and loose fitting clothing when\\npossible. To reduce risk during outdoor work, the Occupational\\nSafety and Health Administration recommends scheduling frequent\\nrest breaks in shaded or air conditioned environments. Anyone\\novercome by heat should be moved to a cool and shaded location.\\nHeat stroke is an emergency! Call 9 1 1.\",\n          \"For your protection move to an interior room on the lowest floor of a\\nbuilding.\\n\\n\",\n          \"PRECAUTIONARY/PREPAREDNESS ACTIONS...\\n\\nSafety message...If you encounter a flooded roadway...turn around and\\nfind an alternate route.\\n\\n\"\n        ],\n        \"semantic_type\": \"\",\n        \"description\": \"\"\n      }\n    },\n    {\n      \"column\": \"urgency\",\n      \"properties\": {\n        \"dtype\": \"category\",\n        \"num_unique_values\": 3,\n        \"samples\": [\n          \"Immediate\",\n          \"Future\",\n          \"Expected\"\n        ],\n        \"semantic_type\": \"\",\n        \"description\": \"\"\n      }\n    },\n    {\n      \"column\": \"severity\",\n      \"properties\": {\n        \"dtype\": \"category\",\n        \"num_unique_values\": 3,\n        \"samples\": [\n          \"Severe\",\n          \"Minor\",\n          \"Moderate\"\n        ],\n        \"semantic_type\": \"\",\n        \"description\": \"\"\n      }\n    }\n  ]\n}"
            }
          },
          "metadata": {},
          "execution_count": 47
        }
      ]
    },
    {
      "cell_type": "markdown",
      "source": [
        "###Tokenización (Gi):\n",
        "\n",
        "Este paso tiene como objetivo dividir las cadenas de texto del documento en piezas más pequeñas o tokens.\n",
        "Aunque la tokenización es el proceso de dividir grandes cadenas de texto en cadenas más pequeñas, se suele diferenciar la:\n",
        "- Segmentation: Tarea de dividir grandes cadenas de texto en piezas más pequeñas como oraciones o párrafos.\n",
        "- Tokenization: Tarea de dividir grandes cadenas de texto solo y exclusivamente en palabras.\n",
        "\n",
        "###Normalización:\n",
        "La normalización es una tarea que tiene como objetivo poner todo el texto en igualdad de condiciones:\n",
        "- Convertir todo el texto en mayúscula o minúsculas\n",
        "- Eliminar, puntos, comas, comillas, etc.\n",
        "- Convertir los números a su equivalente a palabras\n",
        "- Quitar las Stop-words\n",
        "Empezamos con pasar todo el texto a minuscula:\n",
        "\n",
        "\n"
      ],
      "metadata": {
        "id": "oBF5eHWAlntG"
      }
    },
    {
      "cell_type": "code",
      "source": [
        "df_alertas['description'] = df_alertas['description'].str.lower()\n",
        "df_alertas['description'].iloc[1431674] #Probamos esa fila"
      ],
      "metadata": {
        "colab": {
          "base_uri": "https://localhost:8080/",
          "height": 53
        },
        "id": "xYQaMCa1m6Ki",
        "outputId": "f479eca7-c330-47d4-e2b7-b5a1ab3daf90"
      },
      "execution_count": null,
      "outputs": [
        {
          "output_type": "execute_result",
          "data": {
            "text/plain": [
              "'* what temperatures up to 103 expected.  * where middle rio grande valley including the albuquerque metro area, northwest plateau, and west central plateau.  * when from noon to 8 pm mdt wednesday.  * impacts hot temperatures may cause heat illnesses. '"
            ],
            "application/vnd.google.colaboratory.intrinsic+json": {
              "type": "string"
            }
          },
          "metadata": {},
          "execution_count": 51
        }
      ]
    },
    {
      "cell_type": "markdown",
      "source": [
        "Eliminar, puntos, comas, comillas, etc. Para ello utilizamos expresiones regulares."
      ],
      "metadata": {
        "id": "bPMdmSEwn0K6"
      }
    },
    {
      "cell_type": "code",
      "source": [
        "import re\n",
        "\n",
        "# Eliminar puntuación usando expresiones regulares\n",
        "df_alertas['description'] = df_alertas['description'].str.replace(r'[^\\w\\s]', '', regex=True)\n",
        "\n",
        "df_alertas['description'].iloc[1431674] #Probamos esa fila"
      ],
      "metadata": {
        "colab": {
          "base_uri": "https://localhost:8080/",
          "height": 53
        },
        "id": "5MJEYlPBn1lw",
        "outputId": "26a7e39b-bd20-497e-d03d-b157f0042b12"
      },
      "execution_count": null,
      "outputs": [
        {
          "output_type": "execute_result",
          "data": {
            "text/plain": [
              "' what temperatures up to 103 expected   where middle rio grande valley including the albuquerque metro area northwest plateau and west central plateau   when from noon to 8 pm mdt wednesday   impacts hot temperatures may cause heat illnesses '"
            ],
            "application/vnd.google.colaboratory.intrinsic+json": {
              "type": "string"
            }
          },
          "metadata": {},
          "execution_count": 53
        }
      ]
    },
    {
      "cell_type": "markdown",
      "source": [
        "Pasando numeros a letras. Usamos la libreria num2words"
      ],
      "metadata": {
        "id": "f1AZ3JzupiWZ"
      }
    },
    {
      "cell_type": "code",
      "source": [
        "!pip install num2words\n"
      ],
      "metadata": {
        "colab": {
          "base_uri": "https://localhost:8080/"
        },
        "id": "WZb6ZAP4pdSH",
        "outputId": "03a5ab9d-abf4-41a3-8e83-aff7b995fef7"
      },
      "execution_count": null,
      "outputs": [
        {
          "output_type": "stream",
          "name": "stdout",
          "text": [
            "Requirement already satisfied: num2words in /usr/local/lib/python3.10/dist-packages (0.5.13)\n",
            "Requirement already satisfied: docopt>=0.6.2 in /usr/local/lib/python3.10/dist-packages (from num2words) (0.6.2)\n"
          ]
        }
      ]
    },
    {
      "cell_type": "code",
      "source": [
        "from num2words import num2words\n",
        "\n",
        "# Función para extraer números de una cadena de texto y convertirlos en palabras\n",
        "def convert_numbers_to_words(text):\n",
        "    numbers = re.findall(r'\\d+', text) #Busca numeros\n",
        "    for number in numbers:\n",
        "        text = text.replace(number, num2words(int(number)))\n",
        "    return text\n",
        "\n",
        "df_alertas['description'] = df_alertas['description'].apply(convert_numbers_to_words)\n",
        "\n",
        "df_alertas['description'].iloc[1431674] #Probamos esa fila"
      ],
      "metadata": {
        "colab": {
          "base_uri": "https://localhost:8080/",
          "height": 53
        },
        "id": "0FbODkEarlRT",
        "outputId": "3742012f-2ff9-4206-b9a3-df8db2d3bd85"
      },
      "execution_count": null,
      "outputs": [
        {
          "output_type": "execute_result",
          "data": {
            "text/plain": [
              "' what temperatures up to one hundred and three expected   where middle rio grande valley including the albuquerque metro area northwest plateau and west central plateau   when from noon to eight pm mdt wednesday   impacts hot temperatures may cause heat illnesses '"
            ],
            "application/vnd.google.colaboratory.intrinsic+json": {
              "type": "string"
            }
          },
          "metadata": {},
          "execution_count": 63
        }
      ]
    },
    {
      "cell_type": "markdown",
      "source": [
        "Ahora las se elimina las stop words que son palabras que se filtran o eliminan del texto durante el procesamiento del lenguaje natural (NLP) porque se consideran comunes y no aportan un significado informativo específico para el análisis. Usamos la libreria spacy"
      ],
      "metadata": {
        "id": "OiGY8PPzrknC"
      }
    },
    {
      "cell_type": "code",
      "source": [
        "import spacy\n",
        "\n",
        "nlp = spacy.load(\"en_core_web_sm\")\n",
        "\n",
        "def remove_stopwords(text):\n",
        "    doc = nlp(text)\n",
        "    filtered_text = ' '.join(token.text for token in doc if not token.is_stop)\n",
        "    return filtered_text\n",
        "\n",
        "df_alertas['description'] = df_alertas['description'].apply(remove_stopwords)\n",
        "\n",
        "df_alertas['description'].iloc[1431674] #Probamos esa fila"
      ],
      "metadata": {
        "colab": {
          "base_uri": "https://localhost:8080/",
          "height": 356
        },
        "id": "T_AM-pbivKeB",
        "outputId": "6deccddb-b101-4abc-c504-088b0f2cbc5b"
      },
      "execution_count": null,
      "outputs": [
        {
          "output_type": "error",
          "ename": "KeyboardInterrupt",
          "evalue": "",
          "traceback": [
            "\u001b[0;31m---------------------------------------------------------------------------\u001b[0m",
            "\u001b[0;31mKeyboardInterrupt\u001b[0m                         Traceback (most recent call last)",
            "\u001b[0;32m<ipython-input-65-cebdfce6a6ad>\u001b[0m in \u001b[0;36m<cell line: 10>\u001b[0;34m()\u001b[0m\n\u001b[1;32m      8\u001b[0m     \u001b[0;32mreturn\u001b[0m \u001b[0mfiltered_text\u001b[0m\u001b[0;34m\u001b[0m\u001b[0;34m\u001b[0m\u001b[0m\n\u001b[1;32m      9\u001b[0m \u001b[0;34m\u001b[0m\u001b[0m\n\u001b[0;32m---> 10\u001b[0;31m \u001b[0mdf_alertas\u001b[0m\u001b[0;34m[\u001b[0m\u001b[0;34m'description'\u001b[0m\u001b[0;34m]\u001b[0m \u001b[0;34m=\u001b[0m \u001b[0mdf_alertas\u001b[0m\u001b[0;34m[\u001b[0m\u001b[0;34m'description'\u001b[0m\u001b[0;34m]\u001b[0m\u001b[0;34m.\u001b[0m\u001b[0mapply\u001b[0m\u001b[0;34m(\u001b[0m\u001b[0mremove_stopwords\u001b[0m\u001b[0;34m)\u001b[0m\u001b[0;34m\u001b[0m\u001b[0;34m\u001b[0m\u001b[0m\n\u001b[0m\u001b[1;32m     11\u001b[0m \u001b[0;34m\u001b[0m\u001b[0m\n\u001b[1;32m     12\u001b[0m \u001b[0mdf_alertas\u001b[0m\u001b[0;34m[\u001b[0m\u001b[0;34m'description'\u001b[0m\u001b[0;34m]\u001b[0m\u001b[0;34m.\u001b[0m\u001b[0miloc\u001b[0m\u001b[0;34m[\u001b[0m\u001b[0;36m1431674\u001b[0m\u001b[0;34m]\u001b[0m \u001b[0;31m#Probamos esa fila\u001b[0m\u001b[0;34m\u001b[0m\u001b[0;34m\u001b[0m\u001b[0m\n",
            "\u001b[0;32m/usr/local/lib/python3.10/dist-packages/pandas/core/series.py\u001b[0m in \u001b[0;36mapply\u001b[0;34m(self, func, convert_dtype, args, **kwargs)\u001b[0m\n\u001b[1;32m   4628\u001b[0m         \u001b[0mdtype\u001b[0m\u001b[0;34m:\u001b[0m \u001b[0mfloat64\u001b[0m\u001b[0;34m\u001b[0m\u001b[0;34m\u001b[0m\u001b[0m\n\u001b[1;32m   4629\u001b[0m         \"\"\"\n\u001b[0;32m-> 4630\u001b[0;31m         \u001b[0;32mreturn\u001b[0m \u001b[0mSeriesApply\u001b[0m\u001b[0;34m(\u001b[0m\u001b[0mself\u001b[0m\u001b[0;34m,\u001b[0m \u001b[0mfunc\u001b[0m\u001b[0;34m,\u001b[0m \u001b[0mconvert_dtype\u001b[0m\u001b[0;34m,\u001b[0m \u001b[0margs\u001b[0m\u001b[0;34m,\u001b[0m \u001b[0mkwargs\u001b[0m\u001b[0;34m)\u001b[0m\u001b[0;34m.\u001b[0m\u001b[0mapply\u001b[0m\u001b[0;34m(\u001b[0m\u001b[0;34m)\u001b[0m\u001b[0;34m\u001b[0m\u001b[0;34m\u001b[0m\u001b[0m\n\u001b[0m\u001b[1;32m   4631\u001b[0m \u001b[0;34m\u001b[0m\u001b[0m\n\u001b[1;32m   4632\u001b[0m     def _reduce(\n",
            "\u001b[0;32m/usr/local/lib/python3.10/dist-packages/pandas/core/apply.py\u001b[0m in \u001b[0;36mapply\u001b[0;34m(self)\u001b[0m\n\u001b[1;32m   1023\u001b[0m \u001b[0;34m\u001b[0m\u001b[0m\n\u001b[1;32m   1024\u001b[0m         \u001b[0;31m# self.f is Callable\u001b[0m\u001b[0;34m\u001b[0m\u001b[0;34m\u001b[0m\u001b[0m\n\u001b[0;32m-> 1025\u001b[0;31m         \u001b[0;32mreturn\u001b[0m \u001b[0mself\u001b[0m\u001b[0;34m.\u001b[0m\u001b[0mapply_standard\u001b[0m\u001b[0;34m(\u001b[0m\u001b[0;34m)\u001b[0m\u001b[0;34m\u001b[0m\u001b[0;34m\u001b[0m\u001b[0m\n\u001b[0m\u001b[1;32m   1026\u001b[0m \u001b[0;34m\u001b[0m\u001b[0m\n\u001b[1;32m   1027\u001b[0m     \u001b[0;32mdef\u001b[0m \u001b[0magg\u001b[0m\u001b[0;34m(\u001b[0m\u001b[0mself\u001b[0m\u001b[0;34m)\u001b[0m\u001b[0;34m:\u001b[0m\u001b[0;34m\u001b[0m\u001b[0;34m\u001b[0m\u001b[0m\n",
            "\u001b[0;32m/usr/local/lib/python3.10/dist-packages/pandas/core/apply.py\u001b[0m in \u001b[0;36mapply_standard\u001b[0;34m(self)\u001b[0m\n\u001b[1;32m   1074\u001b[0m             \u001b[0;32melse\u001b[0m\u001b[0;34m:\u001b[0m\u001b[0;34m\u001b[0m\u001b[0;34m\u001b[0m\u001b[0m\n\u001b[1;32m   1075\u001b[0m                 \u001b[0mvalues\u001b[0m \u001b[0;34m=\u001b[0m \u001b[0mobj\u001b[0m\u001b[0;34m.\u001b[0m\u001b[0mastype\u001b[0m\u001b[0;34m(\u001b[0m\u001b[0mobject\u001b[0m\u001b[0;34m)\u001b[0m\u001b[0;34m.\u001b[0m\u001b[0m_values\u001b[0m\u001b[0;34m\u001b[0m\u001b[0;34m\u001b[0m\u001b[0m\n\u001b[0;32m-> 1076\u001b[0;31m                 mapped = lib.map_infer(\n\u001b[0m\u001b[1;32m   1077\u001b[0m                     \u001b[0mvalues\u001b[0m\u001b[0;34m,\u001b[0m\u001b[0;34m\u001b[0m\u001b[0;34m\u001b[0m\u001b[0m\n\u001b[1;32m   1078\u001b[0m                     \u001b[0mf\u001b[0m\u001b[0;34m,\u001b[0m\u001b[0;34m\u001b[0m\u001b[0;34m\u001b[0m\u001b[0m\n",
            "\u001b[0;32m/usr/local/lib/python3.10/dist-packages/pandas/_libs/lib.pyx\u001b[0m in \u001b[0;36mpandas._libs.lib.map_infer\u001b[0;34m()\u001b[0m\n",
            "\u001b[0;32m<ipython-input-65-cebdfce6a6ad>\u001b[0m in \u001b[0;36mremove_stopwords\u001b[0;34m(text)\u001b[0m\n\u001b[1;32m      4\u001b[0m \u001b[0;34m\u001b[0m\u001b[0m\n\u001b[1;32m      5\u001b[0m \u001b[0;32mdef\u001b[0m \u001b[0mremove_stopwords\u001b[0m\u001b[0;34m(\u001b[0m\u001b[0mtext\u001b[0m\u001b[0;34m)\u001b[0m\u001b[0;34m:\u001b[0m\u001b[0;34m\u001b[0m\u001b[0;34m\u001b[0m\u001b[0m\n\u001b[0;32m----> 6\u001b[0;31m     \u001b[0mdoc\u001b[0m \u001b[0;34m=\u001b[0m \u001b[0mnlp\u001b[0m\u001b[0;34m(\u001b[0m\u001b[0mtext\u001b[0m\u001b[0;34m)\u001b[0m\u001b[0;34m\u001b[0m\u001b[0;34m\u001b[0m\u001b[0m\n\u001b[0m\u001b[1;32m      7\u001b[0m     \u001b[0mfiltered_text\u001b[0m \u001b[0;34m=\u001b[0m \u001b[0;34m' '\u001b[0m\u001b[0;34m.\u001b[0m\u001b[0mjoin\u001b[0m\u001b[0;34m(\u001b[0m\u001b[0mtoken\u001b[0m\u001b[0;34m.\u001b[0m\u001b[0mtext\u001b[0m \u001b[0;32mfor\u001b[0m \u001b[0mtoken\u001b[0m \u001b[0;32min\u001b[0m \u001b[0mdoc\u001b[0m \u001b[0;32mif\u001b[0m \u001b[0;32mnot\u001b[0m \u001b[0mtoken\u001b[0m\u001b[0;34m.\u001b[0m\u001b[0mis_stop\u001b[0m\u001b[0;34m)\u001b[0m\u001b[0;34m\u001b[0m\u001b[0;34m\u001b[0m\u001b[0m\n\u001b[1;32m      8\u001b[0m     \u001b[0;32mreturn\u001b[0m \u001b[0mfiltered_text\u001b[0m\u001b[0;34m\u001b[0m\u001b[0;34m\u001b[0m\u001b[0m\n",
            "\u001b[0;32m/usr/local/lib/python3.10/dist-packages/spacy/language.py\u001b[0m in \u001b[0;36m__call__\u001b[0;34m(self, text, disable, component_cfg)\u001b[0m\n\u001b[1;32m   1047\u001b[0m                 \u001b[0merror_handler\u001b[0m \u001b[0;34m=\u001b[0m \u001b[0mproc\u001b[0m\u001b[0;34m.\u001b[0m\u001b[0mget_error_handler\u001b[0m\u001b[0;34m(\u001b[0m\u001b[0;34m)\u001b[0m\u001b[0;34m\u001b[0m\u001b[0;34m\u001b[0m\u001b[0m\n\u001b[1;32m   1048\u001b[0m             \u001b[0;32mtry\u001b[0m\u001b[0;34m:\u001b[0m\u001b[0;34m\u001b[0m\u001b[0;34m\u001b[0m\u001b[0m\n\u001b[0;32m-> 1049\u001b[0;31m                 \u001b[0mdoc\u001b[0m \u001b[0;34m=\u001b[0m \u001b[0mproc\u001b[0m\u001b[0;34m(\u001b[0m\u001b[0mdoc\u001b[0m\u001b[0;34m,\u001b[0m \u001b[0;34m**\u001b[0m\u001b[0mcomponent_cfg\u001b[0m\u001b[0;34m.\u001b[0m\u001b[0mget\u001b[0m\u001b[0;34m(\u001b[0m\u001b[0mname\u001b[0m\u001b[0;34m,\u001b[0m \u001b[0;34m{\u001b[0m\u001b[0;34m}\u001b[0m\u001b[0;34m)\u001b[0m\u001b[0;34m)\u001b[0m  \u001b[0;31m# type: ignore[call-arg]\u001b[0m\u001b[0;34m\u001b[0m\u001b[0;34m\u001b[0m\u001b[0m\n\u001b[0m\u001b[1;32m   1050\u001b[0m             \u001b[0;32mexcept\u001b[0m \u001b[0mKeyError\u001b[0m \u001b[0;32mas\u001b[0m \u001b[0me\u001b[0m\u001b[0;34m:\u001b[0m\u001b[0;34m\u001b[0m\u001b[0;34m\u001b[0m\u001b[0m\n\u001b[1;32m   1051\u001b[0m                 \u001b[0;31m# This typically happens if a component is not initialized\u001b[0m\u001b[0;34m\u001b[0m\u001b[0;34m\u001b[0m\u001b[0m\n",
            "\u001b[0;32m/usr/local/lib/python3.10/dist-packages/spacy/pipeline/attributeruler.py\u001b[0m in \u001b[0;36m__call__\u001b[0;34m(self, doc)\u001b[0m\n\u001b[1;32m    141\u001b[0m         \u001b[0;32mtry\u001b[0m\u001b[0;34m:\u001b[0m\u001b[0;34m\u001b[0m\u001b[0;34m\u001b[0m\u001b[0m\n\u001b[1;32m    142\u001b[0m             \u001b[0mmatches\u001b[0m \u001b[0;34m=\u001b[0m \u001b[0mself\u001b[0m\u001b[0;34m.\u001b[0m\u001b[0mmatch\u001b[0m\u001b[0;34m(\u001b[0m\u001b[0mdoc\u001b[0m\u001b[0;34m)\u001b[0m\u001b[0;34m\u001b[0m\u001b[0;34m\u001b[0m\u001b[0m\n\u001b[0;32m--> 143\u001b[0;31m             \u001b[0mself\u001b[0m\u001b[0;34m.\u001b[0m\u001b[0mset_annotations\u001b[0m\u001b[0;34m(\u001b[0m\u001b[0mdoc\u001b[0m\u001b[0;34m,\u001b[0m \u001b[0mmatches\u001b[0m\u001b[0;34m)\u001b[0m\u001b[0;34m\u001b[0m\u001b[0;34m\u001b[0m\u001b[0m\n\u001b[0m\u001b[1;32m    144\u001b[0m             \u001b[0;32mreturn\u001b[0m \u001b[0mdoc\u001b[0m\u001b[0;34m\u001b[0m\u001b[0;34m\u001b[0m\u001b[0m\n\u001b[1;32m    145\u001b[0m         \u001b[0;32mexcept\u001b[0m \u001b[0mException\u001b[0m \u001b[0;32mas\u001b[0m \u001b[0me\u001b[0m\u001b[0;34m:\u001b[0m\u001b[0;34m\u001b[0m\u001b[0;34m\u001b[0m\u001b[0m\n",
            "\u001b[0;32m/usr/local/lib/python3.10/dist-packages/spacy/pipeline/attributeruler.py\u001b[0m in \u001b[0;36mset_annotations\u001b[0;34m(self, doc, matches)\u001b[0m\n\u001b[1;32m    175\u001b[0m                     )\n\u001b[1;32m    176\u001b[0m                 ) from None\n\u001b[0;32m--> 177\u001b[0;31m             \u001b[0mset_token_attrs\u001b[0m\u001b[0;34m(\u001b[0m\u001b[0mspan\u001b[0m\u001b[0;34m[\u001b[0m\u001b[0mindex\u001b[0m\u001b[0;34m]\u001b[0m\u001b[0;34m,\u001b[0m \u001b[0mattrs\u001b[0m\u001b[0;34m)\u001b[0m\u001b[0;34m\u001b[0m\u001b[0;34m\u001b[0m\u001b[0m\n\u001b[0m\u001b[1;32m    178\u001b[0m \u001b[0;34m\u001b[0m\u001b[0m\n\u001b[1;32m    179\u001b[0m     def load_from_tag_map(\n",
            "\u001b[0;31mKeyboardInterrupt\u001b[0m: "
          ]
        }
      ]
    }
  ]
}